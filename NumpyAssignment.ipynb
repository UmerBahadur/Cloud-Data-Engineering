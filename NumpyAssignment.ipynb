{
 "cells": [
  {
   "cell_type": "markdown",
   "metadata": {
    "id": "UZXjlass3ARu"
   },
   "source": [
    "\n",
    "# **1. Basic Array Manipulation:**\n"
   ]
  },
  {
   "cell_type": "markdown",
   "metadata": {
    "id": "tDWPQRm23C7o"
   },
   "source": [
    "Create a 1D array with values ranging from 0 to 9.\n"
   ]
  },
  {
   "cell_type": "code",
   "execution_count": 2,
   "metadata": {
    "id": "OvGF66_02Q8H"
   },
   "outputs": [
    {
     "data": {
      "text/plain": [
       "array([0, 1, 2, 3, 4, 5, 6, 7, 8])"
      ]
     },
     "execution_count": 2,
     "metadata": {},
     "output_type": "execute_result"
    }
   ],
   "source": [
    "import numpy as np\n",
    "mylist = [0,1,2,3,4,5,6,7,8]\n",
    "myarray = np.array(mylist)\n",
    "myarray"
   ]
  },
  {
   "cell_type": "markdown",
   "metadata": {
    "id": "UYzIzPyB3Ne3"
   },
   "source": [
    "Reshape the array into a 3x3 matrix.\n",
    "\n",
    "Explore Reshape Function"
   ]
  },
  {
   "cell_type": "code",
   "execution_count": 35,
   "metadata": {
    "id": "RLlzDCBc2Q_P"
   },
   "outputs": [
    {
     "data": {
      "text/plain": [
       "array([[0, 1, 2],\n",
       "       [3, 4, 5],\n",
       "       [6, 7, 8]])"
      ]
     },
     "execution_count": 35,
     "metadata": {},
     "output_type": "execute_result"
    }
   ],
   "source": [
    "my3Array = myarray.reshape(3,3)\n",
    "my3Array"
   ]
  },
  {
   "cell_type": "markdown",
   "metadata": {
    "id": "KmhRK9Ti3Phn"
   },
   "source": [
    "Access the element at the second row, second column.\n"
   ]
  },
  {
   "cell_type": "code",
   "execution_count": 36,
   "metadata": {
    "id": "Dk_a1D3A3ijN"
   },
   "outputs": [
    {
     "data": {
      "text/plain": [
       "4"
      ]
     },
     "execution_count": 36,
     "metadata": {},
     "output_type": "execute_result"
    }
   ],
   "source": [
    "item = my3Array[1,1]\n",
    "item"
   ]
  },
  {
   "cell_type": "markdown",
   "metadata": {
    "id": "NlH7N-fZ36wc"
   },
   "source": [
    "Perform element-wise addition, subtraction, multiplication, and division on two arrays [1, 2, 3] and [4, 5, 6].\n"
   ]
  },
  {
   "cell_type": "code",
   "execution_count": 3,
   "metadata": {
    "id": "PkgNSo1a37kP"
   },
   "outputs": [
    {
     "name": "stdout",
     "output_type": "stream",
     "text": [
      "Addition of the two arrays is:\n",
      "[5 7 9]\n",
      "Subtraction of the two arrays is:\n",
      "[3 3 3]\n",
      "Multiplication of the two arrays is:\n",
      "[ 4 10 18]\n",
      "Division of the two arrays is:\n",
      "[4.  2.5 2. ]\n"
     ]
    }
   ],
   "source": [
    "calcArray1 = np.array([1,2,3])\n",
    "calcArray2 = np.array([4,5,6])\n",
    "print('Addition of the two arrays is:')\n",
    "print(calcArray1+calcArray2)\n",
    "print('Subtraction of the two arrays is:')\n",
    "print(calcArray2-calcArray1)\n",
    "print('Multiplication of the two arrays is:')\n",
    "print(calcArray2*calcArray1)\n",
    "print('Division of the two arrays is:')\n",
    "print(calcArray2/calcArray1)"
   ]
  },
  {
   "cell_type": "markdown",
   "metadata": {
    "id": "JVt4zxkk8e0P"
   },
   "source": [
    "Find the sum, mean, and standard deviation of the array [1, 2, 3, 4, 5].\n"
   ]
  },
  {
   "cell_type": "code",
   "execution_count": 45,
   "metadata": {
    "id": "mQZxaZ0c8nhh"
   },
   "outputs": [
    {
     "name": "stdout",
     "output_type": "stream",
     "text": [
      "Sum= 15 \n",
      "Mean= 3.0 \n",
      "Standard Deviation= 1.4142135623730951\n"
     ]
    }
   ],
   "source": [
    "Array = [1,2,3,4,5]\n",
    "sum = np.sum(Array)\n",
    "mean = np.mean(Array)\n",
    "sd = np.std(Array)\n",
    "print(f\"Sum= {sum} \\nMean= {mean} \\nStandard Deviation= {sd}\")"
   ]
  },
  {
   "cell_type": "markdown",
   "metadata": {
    "id": "ji2XvW0Z8nn5"
   },
   "source": [
    "Reshape the array [1, 2, 3, 4, 5, 6] into a 2x3 array.\n",
    "\n",
    "Explore Reshape"
   ]
  },
  {
   "cell_type": "code",
   "execution_count": 48,
   "metadata": {
    "id": "FNbYlzyI8rAx"
   },
   "outputs": [
    {
     "data": {
      "text/plain": [
       "array([[1, 2, 3],\n",
       "       [4, 5, 6]])"
      ]
     },
     "execution_count": 48,
     "metadata": {},
     "output_type": "execute_result"
    }
   ],
   "source": [
    "Array = np.array([1,2,3,4,5,6])\n",
    "Array.reshape(2,3)"
   ]
  },
  {
   "cell_type": "markdown",
   "metadata": {
    "id": "OE-5o0th3SU4"
   },
   "source": [
    "\n",
    "# **2. Indexing and Slicing:**\n"
   ]
  },
  {
   "cell_type": "markdown",
   "metadata": {
    "id": "yqNKWBOl3an3"
   },
   "source": [
    "Create a 5x5 array with random integers.\n"
   ]
  },
  {
   "cell_type": "code",
   "execution_count": 51,
   "metadata": {
    "id": "G-kX4nme2RBn"
   },
   "outputs": [
    {
     "data": {
      "text/plain": [
       "array([[83, 89, 14, 31, 82],\n",
       "       [31, 28, 31, 74, 83],\n",
       "       [66, 95, 58, 60, 87],\n",
       "       [22, 29, 99, 77, 51],\n",
       "       [23,  8,  2,  3, 60]])"
      ]
     },
     "execution_count": 51,
     "metadata": {},
     "output_type": "execute_result"
    }
   ],
   "source": [
    "Array = np.random.randint(0,101,size=25)\n",
    "matrix = Array.reshape(5,5)\n",
    "matrix"
   ]
  },
  {
   "cell_type": "markdown",
   "metadata": {
    "id": "LlilKAMF3bMX"
   },
   "source": [
    "Replace all values in the sub-array with a specific value.\n"
   ]
  },
  {
   "cell_type": "code",
   "execution_count": 53,
   "metadata": {
    "id": "gShfqRGm2REI"
   },
   "outputs": [
    {
     "name": "stdout",
     "output_type": "stream",
     "text": [
      "[[5 5 5]\n",
      " [5 5 5]\n",
      " [5 5 5]]\n",
      "original matrix\n",
      "[[83 89 14 31 82]\n",
      " [31  5  5  5 83]\n",
      " [66  5  5  5 87]\n",
      " [22  5  5  5 51]\n",
      " [23  8  2  3 60]]\n"
     ]
    }
   ],
   "source": [
    "subArray = matrix[1:4,1:4] \n",
    "matrix[1:4,1:4] = 5 #5 = subArray\n",
    "print(subArray)\n",
    "print('original matrix')\n",
    "print(matrix)"
   ]
  },
  {
   "cell_type": "markdown",
   "metadata": {
    "id": "1kUY7u023gfF"
   },
   "source": [
    "Extract the subarray [[3, 4], [7, 8]] from the array [[1, 2], [3, 4], [5, 6], [7, 8]].\n"
   ]
  },
  {
   "cell_type": "code",
   "execution_count": 57,
   "metadata": {
    "id": "UmgqjBwC3_4V"
   },
   "outputs": [
    {
     "name": "stdout",
     "output_type": "stream",
     "text": [
      "[[1 2]\n",
      " [3 4]\n",
      " [5 6]\n",
      " [7 8]]\n",
      "Answer\n",
      "[[3 4]]\n",
      "[[7 8]]\n"
     ]
    }
   ],
   "source": [
    "Array = np.array( [[1, 2], [3, 4], [5, 6], [7, 8]])\n",
    "print(Array)\n",
    "print('Answer')\n",
    "print(Array[1:2,:])\n",
    "print(Array[3:4,:])"
   ]
  },
  {
   "cell_type": "markdown",
   "metadata": {
    "id": "vPrCHS_O3jK9"
   },
   "source": [
    "\n",
    "# **3. Broadcasting:**"
   ]
  },
  {
   "cell_type": "markdown",
   "metadata": {
    "id": "W3WUM5Cc3phc"
   },
   "source": [
    "Create a 2D array of shape (3, 3) with values from 0 to 2.\n"
   ]
  },
  {
   "cell_type": "code",
   "execution_count": 8,
   "metadata": {
    "id": "PxJrAlFW2RGw"
   },
   "outputs": [
    {
     "data": {
      "text/plain": [
       "array([[0, 1, 2],\n",
       "       [0, 1, 2],\n",
       "       [0, 1, 2]])"
      ]
     },
     "execution_count": 8,
     "metadata": {},
     "output_type": "execute_result"
    }
   ],
   "source": [
    "array = np.arange(3)\n",
    "array2D= np.tile(array, (3, 1))\n",
    "array2D\n"
   ]
  },
  {
   "cell_type": "markdown",
   "metadata": {
    "id": "J5XPwN3A3rXG"
   },
   "source": [
    "Add a 1D array of shape (3,) to each row of the 2D array using broadcasting.\n"
   ]
  },
  {
   "cell_type": "code",
   "execution_count": 68,
   "metadata": {
    "id": "k4FM2g_c2RJv"
   },
   "outputs": [
    {
     "name": "stdout",
     "output_type": "stream",
     "text": [
      "[[1 3 5]\n",
      " [1 3 5]\n",
      " [1 3 5]]\n"
     ]
    }
   ],
   "source": [
    "array_1d = np.array([1, 2, 3])\n",
    "print(array_1d+array2D)"
   ]
  },
  {
   "cell_type": "markdown",
   "metadata": {
    "id": "9CbtQS3w4PA3"
   },
   "source": [
    "# **4. Concatenation and Splitting**"
   ]
  },
  {
   "cell_type": "markdown",
   "metadata": {
    "id": "yMg_umVy4ILG"
   },
   "source": [
    "\n",
    "1.   Create two 2D arrays of shape (3, 3) with random integers.\n",
    "2.   Concatenate them horizontally and vertically.\n",
    "3.   Split the concatenated arrays back into the original arrays.\n"
   ]
  },
  {
   "cell_type": "code",
   "execution_count": 69,
   "metadata": {
    "id": "wXiCa2Sn8XHP"
   },
   "outputs": [
    {
     "name": "stdout",
     "output_type": "stream",
     "text": [
      "array 1:\n",
      "[[6 6 3]\n",
      " [5 3 7]\n",
      " [6 0 0]]\n",
      "array 2:\n",
      "[[9 4 4]\n",
      " [0 9 9]\n",
      " [7 7 0]]\n"
     ]
    }
   ],
   "source": [
    "array1 = np.random.randint(0, 10, size=(3, 3))\n",
    "array2 = np.random.randint(0, 10, size=(3, 3))\n",
    "print('array 1:')\n",
    "print(array1)\n",
    "print('array 2:')\n",
    "print(array2)"
   ]
  },
  {
   "cell_type": "code",
   "execution_count": 71,
   "metadata": {
    "id": "yAiYe6vj8XSW"
   },
   "outputs": [
    {
     "name": "stdout",
     "output_type": "stream",
     "text": [
      "Concatenated Horizontally:\n",
      "[[6 6 3 9 4 4]\n",
      " [5 3 7 0 9 9]\n",
      " [6 0 0 7 7 0]]\n",
      "Concatenated Vertically:\n",
      "[[6 6 3]\n",
      " [5 3 7]\n",
      " [6 0 0]\n",
      " [9 4 4]\n",
      " [0 9 9]\n",
      " [7 7 0]]\n"
     ]
    }
   ],
   "source": [
    "concatenated_horizontal = np.concatenate((array1, array2), axis=1)\n",
    "\n",
    "concatenated_vertical = np.concatenate((array1, array2), axis=0)\n",
    "\n",
    "print(\"Concatenated Horizontally:\")\n",
    "print(concatenated_horizontal)\n",
    "print(\"Concatenated Vertically:\")\n",
    "print(concatenated_vertical)Z"
   ]
  },
  {
   "cell_type": "code",
   "execution_count": 72,
   "metadata": {
    "id": "lgMsjt-J8XZK"
   },
   "outputs": [
    {
     "name": "stdout",
     "output_type": "stream",
     "text": [
      "split horizontally\n",
      "[array([[6, 6, 3],\n",
      "       [5, 3, 7],\n",
      "       [6, 0, 0]]), array([[9, 4, 4],\n",
      "       [0, 9, 9],\n",
      "       [7, 7, 0]])]\n",
      "split vertically\n",
      "[array([[6, 6, 3],\n",
      "       [5, 3, 7],\n",
      "       [6, 0, 0]]), array([[9, 4, 4],\n",
      "       [0, 9, 9],\n",
      "       [7, 7, 0]])]\n"
     ]
    }
   ],
   "source": [
    "split_horizontal = np.hsplit(concatenated_horizontal, 2)  \n",
    "split_vertical = np.vsplit(concatenated_vertical, 2)  \n",
    "print('split horizontally')\n",
    "print(split_horizontal)\n",
    "print('split vertically')\n",
    "print(split_vertical)\n"
   ]
  },
  {
   "cell_type": "markdown",
   "metadata": {
    "id": "2CliNLH8YG3j"
   },
   "source": [
    "# **Bonus Question**\n",
    "\n",
    "Find mode of this array  = [1,2,1,2,3,4,5,6,8,9,1,2,2,22,21,1,1,1,1,2,5]\n",
    "\n",
    "Hint: Use count and also loop"
   ]
  },
  {
   "cell_type": "code",
   "execution_count": 74,
   "metadata": {
    "id": "JGe2Qe3SYaHq"
   },
   "outputs": [
    {
     "name": "stdout",
     "output_type": "stream",
     "text": [
      "Mode value: [1]\n",
      "Maximum count: 7\n"
     ]
    }
   ],
   "source": [
    "import numpy as np\n",
    "array = np.array([1, 2, 1, 2, 3, 4, 5, 6, 8, 9, 1, 2, 2, 22, 21, 1, 1, 1, 1, 2, 5])\n",
    "unique_vals, counts = np.unique(array, return_counts=True)\n",
    "max_count = np.max(counts)\n",
    "mode_indices = np.argwhere(counts == max_count).flatten()\n",
    "print(\"Mode value:\", unique_vals[mode_indices].tolist())\n",
    "print(\"Maximum count:\", max_count)\n"
   ]
  },
  {
   "cell_type": "markdown",
   "metadata": {
    "id": "1t9n5GQdYbHN"
   },
   "source": [
    "# **Notes**\n",
    "\n",
    "\n",
    "1.   All the Questions carry Equal Points (2 points)\n",
    "\n",
    "2.   Bonus Question carry 5 points\n",
    "\n",
    "3.   Review lecture for any query\n",
    "\n",
    "Good Luck!\n",
    "\n"
   ]
  },
  {
   "cell_type": "code",
   "execution_count": null,
   "metadata": {
    "id": "yxT9-gJfYugV"
   },
   "outputs": [],
   "source": []
  }
 ],
 "metadata": {
  "colab": {
   "provenance": []
  },
  "kernelspec": {
   "display_name": "Python 3 (ipykernel)",
   "language": "python",
   "name": "python3"
  },
  "language_info": {
   "codemirror_mode": {
    "name": "ipython",
    "version": 3
   },
   "file_extension": ".py",
   "mimetype": "text/x-python",
   "name": "python",
   "nbconvert_exporter": "python",
   "pygments_lexer": "ipython3",
   "version": "3.11.7"
  }
 },
 "nbformat": 4,
 "nbformat_minor": 4
}
